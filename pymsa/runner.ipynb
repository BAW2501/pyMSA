{
 "cells": [
  {
   "cell_type": "markdown",
   "metadata": {
    "collapsed": true
   },
   "source": [
    "This program is intended to show some examples of using the scores in pyMSA.\n"
   ]
  },
  {
   "cell_type": "markdown",
   "metadata": {},
   "source": [
    "Our multiple sequence alignment will be represented as a list of pairs -identifier and sequence-. In this example, we will create the structure manually, but you could also use `read_fasta_file_as_list_of_pairs()` method `from pymsa.util`:"
   ]
  },
  {
   "cell_type": "code",
   "execution_count": 2,
   "metadata": {},
   "outputs": [
    {
     "name": "stdout",
     "output_type": "stream",
     "text": [
      "[('id1', 'ACTG'), ('id2', 'A-T-')]\n"
     ]
    }
   ],
   "source": [
    "msa = [(\"id1\", \"ACTG\"), (\"id2\", \"A-T-\")]\n",
    "print(msa)"
   ]
  },
  {
   "cell_type": "code",
   "execution_count": 3,
   "metadata": {},
   "outputs": [
    {
     "name": "stdout",
     "output_type": "stream",
     "text": [
      "['ACTG', 'A-T-']\n"
     ]
    }
   ],
   "source": [
    "sequences = list(pair[1] for pair in msa)\n",
    "print(sequences)"
   ]
  },
  {
   "cell_type": "markdown",
   "metadata": {},
   "source": [
    "Note that every MSA need to fulfill one requirement:\n",
    "- All the sequences in an msa must be aligned (same length).\n",
    "\n",
    "pyMSA implements a wide range of score methods. In this example we will use `SumOfPair()`."
   ]
  },
  {
   "cell_type": "code",
   "execution_count": 4,
   "metadata": {},
   "outputs": [
    {
     "name": "stdout",
     "output_type": "stream",
     "text": [
      "MSA score using Sum of Pairs:  -7\n"
     ]
    }
   ],
   "source": [
    "from pymsa.score import Score, SumOfPairs, Entropy, Star, \\\n",
    "    PercentageOfNonGaps, PercentageOfTotallyConservedColumns\n",
    "from pymsa.substitutionmatrix import PAM250, Blosum62 \n",
    "\n",
    "substitution_matrix = Blosum62(gap_penalty=-8, gap_character='-')\n",
    "score_method = SumOfPairs(substitution_matrix=substitution_matrix)\n",
    "result = score_method.compute(sequences)\n",
    "\n",
    "print(\"MSA score using Sum of Pairs: \", result)"
   ]
  },
  {
   "cell_type": "markdown",
   "metadata": {},
   "source": [
    "As we can see, we need to pass `SumOfPairs()` a weight matrix (also called _substitution matrix_). pyMSA also implements two of them: PAM250 (by default) and Blosum62."
   ]
  }
 ],
 "metadata": {
  "kernelspec": {
   "display_name": "Python 3",
   "language": "python",
   "name": "python3"
  },
  "language_info": {
   "codemirror_mode": {
    "name": "ipython",
    "version": 3
   },
   "file_extension": ".py",
   "mimetype": "text/x-python",
   "name": "python",
   "nbconvert_exporter": "python",
   "pygments_lexer": "ipython3",
   "version": "3.6.2"
  }
 },
 "nbformat": 4,
 "nbformat_minor": 1
}
